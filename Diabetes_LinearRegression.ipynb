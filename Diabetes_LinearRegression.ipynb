{
  "cells": [
    {
      "cell_type": "markdown",
      "metadata": {
        "id": "W0OtVb5B1TQl",
        "colab_type": "text"
      },
      "source": [
        "# Diabetes dataset: linear regression. \n",
        "\n",
        "Let's explore the datasets that are included in this Python library. These datasets have been cleaned and formatted for use in ML algorithms."
      ]
    },
    {
      "cell_type": "code",
      "metadata": {
        "id": "AfEHsQb51TQn",
        "colab_type": "code",
        "colab": {}
      },
      "source": [
        "import numpy as np\n",
        "import pandas as pd  \n",
        "from sklearn import datasets, linear_model\n",
        "from sklearn.metrics import mean_squared_error, r2_score"
      ],
      "execution_count": 1,
      "outputs": []
    },
    {
      "cell_type": "code",
      "execution_count": 2,
      "metadata": {},
      "outputs": [],
      "source": [
        "diabetes = datasets.load_diabetes()\n",
        "diabetes_X, diabetes_y = datasets.load_diabetes(return_X_y = True) #X == Matrix, y == vector"
      ]
    },
    {
      "cell_type": "code",
      "metadata": {
        "id": "d1g9Qp_d1TQt",
        "colab_type": "code",
        "colab": {},
        "tags": []
      },
      "source": [
        "print(diabetes.DESCR)"
      ],
      "execution_count": 3,
      "outputs": [
        {
          "output_type": "stream",
          "name": "stdout",
          "text": ".. _diabetes_dataset:\n\nDiabetes dataset\n----------------\n\nTen baseline variables, age, sex, body mass index, average blood\npressure, and six blood serum measurements were obtained for each of n =\n442 diabetes patients, as well as the response of interest, a\nquantitative measure of disease progression one year after baseline.\n\n**Data Set Characteristics:**\n\n  :Number of Instances: 442\n\n  :Number of Attributes: First 10 columns are numeric predictive values\n\n  :Target: Column 11 is a quantitative measure of disease progression one year after baseline\n\n  :Attribute Information:\n      - Age\n      - Sex\n      - Body mass index\n      - Average blood pressure\n      - S1\n      - S2\n      - S3\n      - S4\n      - S5\n      - S6\n\nNote: Each of these 10 feature variables have been mean centered and scaled by the standard deviation times `n_samples` (i.e. the sum of squares of each column totals 1).\n\nSource URL:\nhttps://www4.stat.ncsu.edu/~boos/var.select/diabetes.html\n\nFor more information see:\nBradley Efron, Trevor Hastie, Iain Johnstone and Robert Tibshirani (2004) \"Least Angle Regression,\" Annals of Statistics (with discussion), 407-499.\n(https://web.stanford.edu/~hastie/Papers/LARS/LeastAngle_2002.pdf)\n"
        }
      ]
    },
    {
      "cell_type": "markdown",
      "metadata": {
        "id": "O6k5D9QE1TQv",
        "colab_type": "text"
      },
      "source": [
        "#### Based on the data description, answer the following questions:\n",
        "\n",
        "1. How many attributes are there in the data? What do they mean?\n",
        "\n",
        "1. What is the relation between `diabetes['data']` and `diabetes['target']`?\n",
        "\n",
        "1. How many records are there in the data?"
      ]
    },
    {
      "cell_type": "markdown",
      "metadata": {
        "colab": {},
        "colab_type": "code",
        "id": "t_wDCcuA1TQv"
      },
      "source": [
        "1. There are 10 diferent attributes within the data. They are the diferent variables taking into account to make a regesion model that would allow a prediction of new values.\n",
        "2. The values are the data taking into considetation for trying to predict if the target is going to be reach.\n",
        "3. There are 442 records."
      ]
    },
    {
      "cell_type": "markdown",
      "metadata": {
        "id": "_fnxxzud1TQy",
        "colab_type": "text"
      },
      "source": [
        "#### Now explore what are contained in the *data* portion as well as the *target* portion of `diabetes`. \n",
        "\n",
        "Scikit-learn typically takes in 2D numpy arrays as input (though pandas dataframes are also accepted). Inspect the shape of `data` and `target`. Confirm they are consistent with the data description."
      ]
    },
    {
      "cell_type": "code",
      "metadata": {
        "id": "G9tNK6PN1TQy",
        "colab_type": "code",
        "colab": {},
        "tags": []
      },
      "source": [
        "print(\"diabetes_X.shape:\", diabetes_X.shape)\n",
        "print(\"diabetes_y.shape:\", diabetes_y.shape)"
      ],
      "execution_count": 7,
      "outputs": [
        {
          "output_type": "stream",
          "name": "stdout",
          "text": "diabetes_X.shape: (442, 10)\ndiabetes_y.shape: (442,)\n"
        }
      ]
    },
    {
      "cell_type": "code",
      "execution_count": 9,
      "metadata": {},
      "outputs": [],
      "source": [
        "#Generation of train & test subsets with a proportion of 80:20\n",
        "diabetes_X_train = diabetes_X[:-20] \n",
        "diabetes_y_train = diabetes_y[:-20]\n",
        "\n",
        "diabetes_X_test = diabetes_X[-20:]\n",
        "diabetes_y_test = diabetes_y[-20:]"
      ]
    },
    {
      "cell_type": "markdown",
      "metadata": {
        "id": "lCMo9-2n1TQ1",
        "colab_type": "text"
      },
      "source": [
        "## Buliding the regression model "
      ]
    },
    {
      "cell_type": "code",
      "metadata": {
        "id": "bpw0BAL61TQ1",
        "colab_type": "code",
        "colab": {}
      },
      "source": [
        "from sklearn import linear_model\n",
        "from sklearn.linear_model import LinearRegression"
      ],
      "execution_count": 10,
      "outputs": []
    },
    {
      "cell_type": "code",
      "metadata": {
        "id": "FiKLuOV31TQ4",
        "colab_type": "code",
        "colab": {}
      },
      "source": [
        "lg_model = LinearRegression(n_jobs = -1)"
      ],
      "execution_count": 11,
      "outputs": []
    },
    {
      "cell_type": "code",
      "metadata": {
        "id": "oqeWpyWb1TQ8",
        "colab_type": "code",
        "colab": {},
        "tags": []
      },
      "source": [
        "lg_model.fit(diabetes_X_train, diabetes_y_train) #train of the model with the corresponding data \n",
        "\n",
        "print(\"Linear regression intercep:\", lg_model.intercept_)\n",
        "print(\"Linear regression coefficients:\", lg_model.coef_)"
      ],
      "execution_count": 14,
      "outputs": [
        {
          "output_type": "stream",
          "name": "stdout",
          "text": "Linear regression intercep: 152.76430691633442\nLinear regression coefficients: [ 3.03499549e-01 -2.37639315e+02  5.10530605e+02  3.27736980e+02\n -8.14131709e+02  4.92814588e+02  1.02848452e+02  1.84606489e+02\n  7.43519617e+02  7.60951722e+01]\n"
        }
      ]
    },
    {
      "cell_type": "markdown",
      "metadata": {
        "id": "7_Sll_FC1TQ-",
        "colab_type": "text"
      },
      "source": [
        "#### Analysis of the results\n",
        "\n",
        "From the outputs you should have seen:\n",
        "- The intercept is a float number.\n",
        "- The coefficients are an array containing 10 float numbers.\n"
      ]
    },
    {
      "cell_type": "code",
      "metadata": {
        "id": "Mwi2oxgg1TQ_",
        "colab_type": "code",
        "colab": {}
      },
      "source": [
        "diabetes_y_prediction = lg_model.predict(diabetes_X_test)"
      ],
      "execution_count": 21,
      "outputs": []
    },
    {
      "cell_type": "code",
      "execution_count": 19,
      "metadata": {
        "tags": []
      },
      "outputs": [
        {
          "output_type": "stream",
          "name": "stdout",
          "text": "[233.  91. 111. 152. 120.  67. 310.  94. 183.  66. 173.  72.  49.  64.\n  48. 178. 104. 132. 220.  57.]\n[197.61846908 155.43979328 172.88665147 111.53537279 164.80054784\n 131.06954875 259.12237761 100.47935157 117.0601052  124.30503555\n 218.36632793  61.19831284 132.25046751 120.3332925   52.54458691\n 194.03798088 102.57139702 123.56604987 211.0346317   52.60335674]\n"
        }
      ],
      "source": [
        "#Comparatin between the predicted targets and the real data\n",
        "print(diabetes_y_test)\n",
        "print(diabetes_y_prediction)"
      ]
    },
    {
      "cell_type": "code",
      "metadata": {
        "id": "c7YMpP_D1TRC",
        "colab_type": "code",
        "colab": {},
        "tags": []
      },
      "source": [
        "mse = mean_squared_error(diabetes_y_test, diabetes_y_prediction)\n",
        "r2 = r2_score(diabetes_y_test, diabetes_y_prediction)\n",
        "print(\"The predictions made by this Linear Regression have this accuracy coefficients: msn = \", round(mse, 2), \"& r2 =\", round(r2, 2))"
      ],
      "execution_count": 24,
      "outputs": [
        {
          "output_type": "stream",
          "name": "stdout",
          "text": "The predictions made by this Linear Regression have this accuracy coefficients: msn =  2004.57 & r2 = 0.59\n"
        }
      ]
    },
    {
      "cell_type": "markdown",
      "metadata": {
        "id": "6UON_L4F1TRD",
        "colab_type": "text"
      },
      "source": [
        "This means that the prediction of this dataset by *Linear Regression* is NOT very accurate. "
      ]
    }
  ],
  "metadata": {
    "kernelspec": {
      "display_name": "Python 3.7.6 64-bit ('base': conda)",
      "language": "python",
      "name": "python37664bitbaseconda513a0352d0eb4c09a2aaf2386a53465e"
    },
    "language_info": {
      "codemirror_mode": {
        "name": "ipython",
        "version": 3
      },
      "file_extension": ".py",
      "mimetype": "text/x-python",
      "name": "python",
      "nbconvert_exporter": "python",
      "pygments_lexer": "ipython3",
      "version": "3.7.6-final"
    },
    "colab": {
      "name": "Linear_regression_diabetes.ipynb",
      "provenance": []
    }
  },
  "nbformat": 4,
  "nbformat_minor": 0
}
