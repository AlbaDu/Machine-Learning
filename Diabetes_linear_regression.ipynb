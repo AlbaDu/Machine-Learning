{
  "cells": [
    {
      "cell_type": "markdown",
      "metadata": {
        "id": "W0OtVb5B1TQl",
        "colab_type": "text"
      },
      "source": [
        "# Linear regression in diabetes dataset\n",
        "\n",
        "Let's explore the datasets that are included in this Python library. These datasets have been cleaned and formatted for use in ML algorithms."
      ]
    },
    {
      "cell_type": "markdown",
      "metadata": {
        "id": "fWmsqmLW1TQm",
        "colab_type": "text"
      },
      "source": [
        "First, we will load the diabetes dataset. Do this in the cell below by importing the datasets and then loading the dataset  to the `diabetes` variable using the `load_diabetes()` function ([documentation](https://scikit-learn.org/stable/modules/generated/sklearn.datasets.load_diabetes.html))."
      ]
    },
    {
      "cell_type": "code",
      "metadata": {
        "id": "AfEHsQb51TQn",
        "colab_type": "code",
        "colab": {}
      },
      "source": [
        "import pandas as pd\n",
        "from sklearn.datasets import load_diabetes\n",
        "diabetes = load_diabetes()\n",
        "diabetes_df = pd.DataFrame(data.data, columns=data.feature_names)"
      ],
      "execution_count": 81,
      "outputs": []
    },
    {
      "cell_type": "markdown",
      "metadata": {
        "id": "3ZcJUMYR1TQq",
        "colab_type": "text"
      },
      "source": [
        "Let's explore this variable by looking at the different attributes (keys) of `diabetes`. Note that the `load_diabetes` function does not return dataframes. It returns you a Python dictionary."
      ]
    },
    {
      "cell_type": "code",
      "metadata": {
        "id": "fBHVqmj21TQq",
        "colab_type": "code",
        "colab": {}
      },
      "source": [
        "diabetes.keys()"
      ],
      "execution_count": 82,
      "outputs": [
        {
          "output_type": "execute_result",
          "data": {
            "text/plain": "dict_keys(['data', 'target', 'DESCR', 'feature_names', 'data_filename', 'target_filename'])"
          },
          "metadata": {},
          "execution_count": 82
        }
      ]
    },
    {
      "cell_type": "markdown",
      "metadata": {
        "id": "8VoqURQ91TQs",
        "colab_type": "text"
      },
      "source": [
        "#### The next step is to read the description of the dataset. \n",
        "\n",
        "Print the description in the cell below using the `DESCR` attribute of the `diabetes` variable. Read the data description carefully to fully understand what each column represents.\n",
        "\n",
        "*Hint: If your output is ill-formatted by displaying linebreaks as `\\n`, it means you are not using the `print` function.*"
      ]
    },
    {
      "cell_type": "code",
      "metadata": {
        "id": "d1g9Qp_d1TQt",
        "colab_type": "code",
        "colab": {}
      },
      "source": [
        "diabetes.DESCR"
      ],
      "execution_count": 83,
      "outputs": [
        {
          "output_type": "execute_result",
          "data": {
            "text/plain": "'.. _diabetes_dataset:\\n\\nDiabetes dataset\\n----------------\\n\\nTen baseline variables, age, sex, body mass index, average blood\\npressure, and six blood serum measurements were obtained for each of n =\\n442 diabetes patients, as well as the response of interest, a\\nquantitative measure of disease progression one year after baseline.\\n\\n**Data Set Characteristics:**\\n\\n  :Number of Instances: 442\\n\\n  :Number of Attributes: First 10 columns are numeric predictive values\\n\\n  :Target: Column 11 is a quantitative measure of disease progression one year after baseline\\n\\n  :Attribute Information:\\n      - Age\\n      - Sex\\n      - Body mass index\\n      - Average blood pressure\\n      - S1\\n      - S2\\n      - S3\\n      - S4\\n      - S5\\n      - S6\\n\\nNote: Each of these 10 feature variables have been mean centered and scaled by the standard deviation times `n_samples` (i.e. the sum of squares of each column totals 1).\\n\\nSource URL:\\nhttps://www4.stat.ncsu.edu/~boos/var.select/diabetes.html\\n\\nFor more information see:\\nBradley Efron, Trevor Hastie, Iain Johnstone and Robert Tibshirani (2004) \"Least Angle Regression,\" Annals of Statistics (with discussion), 407-499.\\n(https://web.stanford.edu/~hastie/Papers/LARS/LeastAngle_2002.pdf)'"
          },
          "metadata": {},
          "execution_count": 83
        }
      ]
    },
    {
      "cell_type": "markdown",
      "metadata": {
        "id": "O6k5D9QE1TQv",
        "colab_type": "text"
      },
      "source": [
        "#### Based on the data description, answer the following questions:\n",
        "\n",
        "1. How many attributes are there in the data? What do they mean?\n",
        "\n",
        "1. What is the relation between `diabetes['data']` and `diabetes['target']`?\n",
        "\n",
        "1. How many records are there in the data?"
      ]
    },
    {
      "cell_type": "markdown",
      "metadata": {
        "colab": {},
        "colab_type": "code",
        "id": "t_wDCcuA1TQv"
      },
      "source": [
        "1. There are 10 diferent attributes within the data. They are the diferent variables taking into account to make a regesion model that would allow a prediction of new values.\n",
        "2. The values are the data taking into considetation for trying to predict if the target is going to be reach.\n",
        "3. There are 442 records."
      ]
    },
    {
      "cell_type": "markdown",
      "metadata": {
        "id": "_fnxxzud1TQy",
        "colab_type": "text"
      },
      "source": [
        "#### Now explore what are contained in the *data* portion as well as the *target* portion of `diabetes`. \n",
        "\n",
        "Scikit-learn typically takes in 2D numpy arrays as input (though pandas dataframes are also accepted). Inspect the shape of `data` and `target`. Confirm they are consistent with the data description."
      ]
    },
    {
      "cell_type": "code",
      "metadata": {
        "id": "G9tNK6PN1TQy",
        "colab_type": "code",
        "colab": {}
      },
      "source": [
        "print(diabetes.data.shape)\n",
        "print(diabetes.target.shape)\n",
        "print(diabetes_df.shape) #Though a dataframe"
      ],
      "execution_count": 84,
      "outputs": [
        {
          "output_type": "stream",
          "name": "stdout",
          "text": "(442, 10)\n(442,)\n(442, 10)\n"
        }
      ]
    },
    {
      "cell_type": "markdown",
      "metadata": {
        "id": "lCMo9-2n1TQ1",
        "colab_type": "text"
      },
      "source": [
        "## Buliding a regression model\n",
        "The data have already been split to predictor (*data*) and response (*target*) variables. Given this information, we'll apply what we have previously learned about linear regression and apply the algorithm to the diabetes dataset.\n",
        "\n",
        "#### In the cell below, import the `linear_model` class from `sklearn`. "
      ]
    },
    {
      "cell_type": "code",
      "metadata": {
        "id": "bpw0BAL61TQ1",
        "colab_type": "code",
        "colab": {}
      },
      "source": [
        "from sklearn import linear_model\n",
        "from sklearn.linear_model import LinearRegression"
      ],
      "execution_count": 85,
      "outputs": []
    },
    {
      "cell_type": "markdown",
      "metadata": {
        "id": "ELTuxR4-1TQ3",
        "colab_type": "text"
      },
      "source": [
        "#### Create a new instance of the linear regression model and assign the new instance to the variable `diabetes_model`."
      ]
    },
    {
      "cell_type": "code",
      "metadata": {
        "id": "FiKLuOV31TQ4",
        "colab_type": "code",
        "colab": {}
      },
      "source": [
        "diabetes_model = LinearRegression()"
      ],
      "execution_count": 86,
      "outputs": []
    },
    {
      "cell_type": "markdown",
      "metadata": {
        "id": "pMegGI9b1TQ6",
        "colab_type": "text"
      },
      "source": [
        "#### Next, let's split the training and test data.\n",
        "\n",
        "Define `diabetes_data_train`, `diabetes_target_train`, `diabetes_data_test`, and `diabetes_target_test`. Use the last 20 records for the test data and the rest for the training data."
      ]
    },
    {
      "cell_type": "code",
      "execution_count": 87,
      "metadata": {},
      "outputs": [
        {
          "output_type": "stream",
          "name": "stdout",
          "text": "(20, 10)\n(20,)\n"
        }
      ],
      "source": [
        "diabetes_data_test = diabetes.data[-20:] #Data means X\n",
        "diabetes_data_train = diabetes.data[:-20]\n",
        "\n",
        "diabetes_target_test = diabetes.target[-20:] #Target means Y\n",
        "diabetes_target_train = diabetes.target[:-20]\n",
        "\n",
        "print(diabetes_data_test.shape)\n",
        "print(diabetes_target_test.shape)"
      ]
    },
    {
      "cell_type": "markdown",
      "metadata": {
        "id": "4D-zl19K1TQ8",
        "colab_type": "text"
      },
      "source": [
        "Fit the training data and target to `diabetes_model`. Print the *intercept* and *coefficients* of the model."
      ]
    },
    {
      "cell_type": "code",
      "metadata": {
        "id": "oqeWpyWb1TQ8",
        "colab_type": "code",
        "colab": {}
      },
      "source": [
        "diabetes_model.fit(diabetes_data_train, diabetes_target_train) #train of the model with the \n",
        "\n",
        "print(diabetes_model.intercept_)\n",
        "print(diabetes_model.coef_)"
      ],
      "execution_count": 90,
      "outputs": [
        {
          "output_type": "stream",
          "name": "stdout",
          "text": "152.76430691633442\n[ 3.03499549e-01 -2.37639315e+02  5.10530605e+02  3.27736980e+02\n -8.14131709e+02  4.92814588e+02  1.02848452e+02  1.84606489e+02\n  7.43519617e+02  7.60951722e+01]\n"
        }
      ]
    },
    {
      "cell_type": "markdown",
      "metadata": {
        "id": "7_Sll_FC1TQ-",
        "colab_type": "text"
      },
      "source": [
        "#### Inspecting the results\n",
        "\n",
        "From the outputs you should have seen:\n",
        "\n",
        "- The intercept is a float number.\n",
        "- The coefficients are an array containing 10 float numbers.\n",
        "\n",
        "This is the linear regression model fitted to your training dataset.\n",
        "\n",
        "#### Using your fitted linear regression model, predict the *y* of `diabetes_data_test`."
      ]
    },
    {
      "cell_type": "code",
      "metadata": {
        "id": "Mwi2oxgg1TQ_",
        "colab_type": "code",
        "colab": {}
      },
      "source": [
        "prediction_diabetes = diabetes_model.predict(diabetes_data_test)"
      ],
      "execution_count": 96,
      "outputs": []
    },
    {
      "cell_type": "markdown",
      "metadata": {
        "id": "brjk_9PS1TRB",
        "colab_type": "text"
      },
      "source": [
        "#### Print your `diabetes_target_test` and compare with the prediction. "
      ]
    },
    {
      "cell_type": "code",
      "execution_count": 95,
      "metadata": {},
      "outputs": [
        {
          "output_type": "stream",
          "name": "stdout",
          "text": "[197.61846908 155.43979328 172.88665147 111.53537279 164.80054784\n 131.06954875 259.12237761 100.47935157 117.0601052  124.30503555\n 218.36632793  61.19831284 132.25046751 120.3332925   52.54458691\n 194.03798088 102.57139702 123.56604987 211.0346317   52.60335674]\n"
        },
        {
          "output_type": "execute_result",
          "data": {
            "text/plain": "array([233.,  91., 111., 152., 120.,  67., 310.,  94., 183.,  66., 173.,\n        72.,  49.,  64.,  48., 178., 104., 132., 220.,  57.])"
          },
          "metadata": {},
          "execution_count": 95
        }
      ],
      "source": [
        "print(prediction_diabetes)\n",
        "prediction_diabetes"
      ]
    },
    {
      "cell_type": "code",
      "metadata": {
        "id": "c7YMpP_D1TRC",
        "colab_type": "code",
        "colab": {}
      },
      "source": [
        "print(mean_squared_error(prediction_diabetes, prediction_diabetes))\n",
        "# The coefficient of determination: 1 is perfect prediction\n",
        "print('Coefficient of determination: %.2f'\n",
        "      % r2_score(prediction_diabetes, prediction_diabetes))"
      ],
      "execution_count": 98,
      "outputs": [
        {
          "output_type": "error",
          "ename": "NameError",
          "evalue": "name 'mean_squared_error' is not defined",
          "traceback": [
            "\u001b[1;31m---------------------------------------------------------------------------\u001b[0m",
            "\u001b[1;31mNameError\u001b[0m                                 Traceback (most recent call last)",
            "\u001b[1;32m<ipython-input-98-4dccc7a57e99>\u001b[0m in \u001b[0;36m<module>\u001b[1;34m\u001b[0m\n\u001b[1;32m----> 1\u001b[1;33m \u001b[0mprint\u001b[0m\u001b[1;33m(\u001b[0m\u001b[0mmean_squared_error\u001b[0m\u001b[1;33m(\u001b[0m\u001b[0mprediction_diabetes\u001b[0m\u001b[1;33m,\u001b[0m \u001b[0mprediction_diabetes\u001b[0m\u001b[1;33m)\u001b[0m\u001b[1;33m)\u001b[0m\u001b[1;33m\u001b[0m\u001b[1;33m\u001b[0m\u001b[0m\n\u001b[0m\u001b[0;32m      2\u001b[0m \u001b[1;31m# The coefficient of determination: 1 is perfect prediction\u001b[0m\u001b[1;33m\u001b[0m\u001b[1;33m\u001b[0m\u001b[1;33m\u001b[0m\u001b[0m\n\u001b[0;32m      3\u001b[0m print('Coefficient of determination: %.2f'\n\u001b[0;32m      4\u001b[0m       % r2_score(prediction_diabetes, prediction_diabetes))\n",
            "\u001b[1;31mNameError\u001b[0m: name 'mean_squared_error' is not defined"
          ]
        }
      ]
    },
    {
      "cell_type": "markdown",
      "metadata": {
        "id": "6UON_L4F1TRD",
        "colab_type": "text"
      },
      "source": [
        "#### Is `diabetes_target_test` exactly the same as the model prediction?"
      ]
    },
    {
      "cell_type": "code",
      "metadata": {
        "id": "YYXM9mm91TRE",
        "colab_type": "code",
        "colab": {}
      },
      "source": [
        "# Your explanation here:\n"
      ],
      "execution_count": 0,
      "outputs": []
    },
    {
      "cell_type": "code",
      "execution_count": null,
      "metadata": {},
      "outputs": [],
      "source": [
        "# Make predictions using the testing set\n",
        "diabetes_y_pred = regr.predict(diabetes_X_test)\n",
        "\n",
        "# The coefficients\n",
        "print('Coefficients: \\n', regr.coef_)\n",
        "# The mean squared error\n",
        "print('Mean squared error: %.2f'\n",
        "      % mean_squared_error(diabetes_y_test, diabetes_y_pred))\n",
        "# The coefficient of determination: 1 is perfect prediction\n",
        "print('Coefficient of determination: %.2f'\n",
        "      % r2_score(diabetes_y_test, diabetes_y_pred))\n",
        "\n",
        "# Plot outputs\n",
        "plt.scatter(diabetes_X_test, diabetes_y_test,  color='black')\n",
        "plt.plot(diabetes_X_test, diabetes_y_pred, color='blue', linewidth=3)\n",
        "\n",
        "plt.xticks(())\n",
        "plt.yticks(())\n",
        "\n",
        "plt.show()"
      ]
    }
  ],
  "metadata": {
    "kernelspec": {
      "display_name": "Python 3.7.6 64-bit ('base': conda)",
      "language": "python",
      "name": "python37664bitbaseconda513a0352d0eb4c09a2aaf2386a53465e"
    },
    "language_info": {
      "codemirror_mode": {
        "name": "ipython",
        "version": 3
      },
      "file_extension": ".py",
      "mimetype": "text/x-python",
      "name": "python",
      "nbconvert_exporter": "python",
      "pygments_lexer": "ipython3",
      "version": "3.7.6-final"
    },
    "colab": {
      "name": "Linear_regression_diabetes.ipynb",
      "provenance": []
    }
  },
  "nbformat": 4,
  "nbformat_minor": 0
}